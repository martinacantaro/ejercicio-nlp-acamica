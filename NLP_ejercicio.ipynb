{
 "cells": [
  {
   "cell_type": "code",
   "execution_count": 1,
   "metadata": {},
   "outputs": [
    {
     "name": "stderr",
     "output_type": "stream",
     "text": [
      "[nltk_data] Downloading package punkt to /Users/lambda/nltk_data...\n",
      "[nltk_data]   Package punkt is already up-to-date!\n",
      "[nltk_data] Downloading package stopwords to\n",
      "[nltk_data]     /Users/lambda/nltk_data...\n",
      "[nltk_data]   Package stopwords is already up-to-date!\n"
     ]
    },
    {
     "data": {
      "text/plain": [
       "True"
      ]
     },
     "execution_count": 1,
     "metadata": {},
     "output_type": "execute_result"
    }
   ],
   "source": [
    "import pandas as pd\n",
    "import nltk\n",
    "import seaborn as sns\n",
    "import re\n",
    "\n",
    "nltk.download('punkt')\n",
    "nltk.download('stopwords')"
   ]
  },
  {
   "cell_type": "code",
   "execution_count": 2,
   "metadata": {},
   "outputs": [],
   "source": [
    "# El dataset contiene opiniones posteadas por consumidores sobre productos vendidos en Amazon.\n",
    "# Nos interesan el texto de la opinión, su título y con cuántas estrellas puntuó el producto.\n",
    "# Queremos predecir la cantidad de estrellas en base a lo que el usuario escribió\n",
    "\n",
    "train = pd.read_json('dataset_es_train.json', lines=True)\n",
    "test = pd.read_json('dataset_es_test.json', lines=True)"
   ]
  },
  {
   "cell_type": "code",
   "execution_count": 3,
   "metadata": {},
   "outputs": [
    {
     "data": {
      "text/html": [
       "<div>\n",
       "<style scoped>\n",
       "    .dataframe tbody tr th:only-of-type {\n",
       "        vertical-align: middle;\n",
       "    }\n",
       "\n",
       "    .dataframe tbody tr th {\n",
       "        vertical-align: top;\n",
       "    }\n",
       "\n",
       "    .dataframe thead th {\n",
       "        text-align: right;\n",
       "    }\n",
       "</style>\n",
       "<table border=\"1\" class=\"dataframe\">\n",
       "  <thead>\n",
       "    <tr style=\"text-align: right;\">\n",
       "      <th></th>\n",
       "      <th>review_id</th>\n",
       "      <th>product_id</th>\n",
       "      <th>reviewer_id</th>\n",
       "      <th>stars</th>\n",
       "      <th>review_body</th>\n",
       "      <th>review_title</th>\n",
       "      <th>language</th>\n",
       "      <th>product_category</th>\n",
       "    </tr>\n",
       "  </thead>\n",
       "  <tbody>\n",
       "    <tr>\n",
       "      <th>0</th>\n",
       "      <td>es_0491108</td>\n",
       "      <td>product_es_0296024</td>\n",
       "      <td>reviewer_es_0999081</td>\n",
       "      <td>1</td>\n",
       "      <td>Nada bueno se me fue ka pantalla en menos de 8...</td>\n",
       "      <td>television Nevir</td>\n",
       "      <td>es</td>\n",
       "      <td>electronics</td>\n",
       "    </tr>\n",
       "    <tr>\n",
       "      <th>1</th>\n",
       "      <td>es_0869872</td>\n",
       "      <td>product_es_0922286</td>\n",
       "      <td>reviewer_es_0216771</td>\n",
       "      <td>1</td>\n",
       "      <td>Horrible, nos tuvimos que comprar otro porque ...</td>\n",
       "      <td>Dinero tirado a la basura con esta compra</td>\n",
       "      <td>es</td>\n",
       "      <td>electronics</td>\n",
       "    </tr>\n",
       "    <tr>\n",
       "      <th>2</th>\n",
       "      <td>es_0811721</td>\n",
       "      <td>product_es_0474543</td>\n",
       "      <td>reviewer_es_0929213</td>\n",
       "      <td>1</td>\n",
       "      <td>Te obligan a comprar dos unidades y te llega s...</td>\n",
       "      <td>solo llega una unidad cuando te obligan a comp...</td>\n",
       "      <td>es</td>\n",
       "      <td>drugstore</td>\n",
       "    </tr>\n",
       "    <tr>\n",
       "      <th>3</th>\n",
       "      <td>es_0359921</td>\n",
       "      <td>product_es_0656090</td>\n",
       "      <td>reviewer_es_0224702</td>\n",
       "      <td>1</td>\n",
       "      <td>No entro en descalificar al vendedor, solo pue...</td>\n",
       "      <td>PRODUCTO NO RECIBIDO.</td>\n",
       "      <td>es</td>\n",
       "      <td>wireless</td>\n",
       "    </tr>\n",
       "    <tr>\n",
       "      <th>4</th>\n",
       "      <td>es_0068940</td>\n",
       "      <td>product_es_0662544</td>\n",
       "      <td>reviewer_es_0224827</td>\n",
       "      <td>1</td>\n",
       "      <td>Llega tarde y co la talla equivocada</td>\n",
       "      <td>Devuelto</td>\n",
       "      <td>es</td>\n",
       "      <td>shoes</td>\n",
       "    </tr>\n",
       "  </tbody>\n",
       "</table>\n",
       "</div>"
      ],
      "text/plain": [
       "    review_id          product_id          reviewer_id  stars  \\\n",
       "0  es_0491108  product_es_0296024  reviewer_es_0999081      1   \n",
       "1  es_0869872  product_es_0922286  reviewer_es_0216771      1   \n",
       "2  es_0811721  product_es_0474543  reviewer_es_0929213      1   \n",
       "3  es_0359921  product_es_0656090  reviewer_es_0224702      1   \n",
       "4  es_0068940  product_es_0662544  reviewer_es_0224827      1   \n",
       "\n",
       "                                         review_body  \\\n",
       "0  Nada bueno se me fue ka pantalla en menos de 8...   \n",
       "1  Horrible, nos tuvimos que comprar otro porque ...   \n",
       "2  Te obligan a comprar dos unidades y te llega s...   \n",
       "3  No entro en descalificar al vendedor, solo pue...   \n",
       "4               Llega tarde y co la talla equivocada   \n",
       "\n",
       "                                        review_title language product_category  \n",
       "0                                   television Nevir       es      electronics  \n",
       "1          Dinero tirado a la basura con esta compra       es      electronics  \n",
       "2  solo llega una unidad cuando te obligan a comp...       es        drugstore  \n",
       "3                              PRODUCTO NO RECIBIDO.       es         wireless  \n",
       "4                                           Devuelto       es            shoes  "
      ]
     },
     "execution_count": 3,
     "metadata": {},
     "output_type": "execute_result"
    }
   ],
   "source": [
    "train.head()"
   ]
  },
  {
   "cell_type": "code",
   "execution_count": 4,
   "metadata": {},
   "outputs": [
    {
     "name": "stdout",
     "output_type": "stream",
     "text": [
      "(200000, 8)\n",
      "(5000, 8)\n",
      "(205000, 8)\n",
      "La calidad es pésima, si fueran un poco peores estarían hechos de papel. Muy chungos, de verdad. No merecen la pena.\n"
     ]
    }
   ],
   "source": [
    "print(train.shape)\n",
    "print(test.shape)\n",
    "\n",
    "# Vamos a juntar train y test para regularizarlos al mismo tiempo, y luego los volveremos a separar\n",
    "\n",
    "df = pd.concat([train, test], ignore_index=True)\n",
    "print(df.shape)\n",
    "print(df.iloc[4996][4])"
   ]
  },
  {
   "cell_type": "code",
   "execution_count": 5,
   "metadata": {},
   "outputs": [
    {
     "data": {
      "text/plain": [
       "<matplotlib.axes._subplots.AxesSubplot at 0x14565eb50>"
      ]
     },
     "execution_count": 5,
     "metadata": {},
     "output_type": "execute_result"
    },
    {
     "data": {
      "image/png": "[encoded data removed]",
      "text/plain": [
       "<Figure size 432x288 with 1 Axes>"
      ]
     },
     "metadata": {
      "needs_background": "light"
     },
     "output_type": "display_data"
    }
   ],
   "source": [
    "# El dataset está balanceado por cantidad de estrellas\n",
    "sns.countplot(df['stars'])"
   ]
  },
  {
   "cell_type": "code",
   "execution_count": 6,
   "metadata": {},
   "outputs": [],
   "source": [
    "# Nos quedamos con las columnas de interés\n",
    "df.drop(labels=['review_id', 'product_id', 'reviewer_id', 'language', 'product_category'], axis =1, inplace=True)"
   ]
  },
  {
   "cell_type": "code",
   "execution_count": 7,
   "metadata": {},
   "outputs": [
    {
     "data": {
      "text/html": [
       "<div>\n",
       "<style scoped>\n",
       "    .dataframe tbody tr th:only-of-type {\n",
       "        vertical-align: middle;\n",
       "    }\n",
       "\n",
       "    .dataframe tbody tr th {\n",
       "        vertical-align: top;\n",
       "    }\n",
       "\n",
       "    .dataframe thead th {\n",
       "        text-align: right;\n",
       "    }\n",
       "</style>\n",
       "<table border=\"1\" class=\"dataframe\">\n",
       "  <thead>\n",
       "    <tr style=\"text-align: right;\">\n",
       "      <th></th>\n",
       "      <th>stars</th>\n",
       "      <th>review_body</th>\n",
       "      <th>review_title</th>\n",
       "    </tr>\n",
       "  </thead>\n",
       "  <tbody>\n",
       "    <tr>\n",
       "      <th>0</th>\n",
       "      <td>1</td>\n",
       "      <td>nada bueno se me fue ka pantalla en menos de  ...</td>\n",
       "      <td>television nevir</td>\n",
       "    </tr>\n",
       "    <tr>\n",
       "      <th>1</th>\n",
       "      <td>1</td>\n",
       "      <td>horrible  nos tuvimos que comprar otro porque ...</td>\n",
       "      <td>dinero tirado a la basura con esta compra</td>\n",
       "    </tr>\n",
       "    <tr>\n",
       "      <th>2</th>\n",
       "      <td>1</td>\n",
       "      <td>te obligan a comprar dos unidades y te llega s...</td>\n",
       "      <td>solo llega una unidad cuando te obligan a comp...</td>\n",
       "    </tr>\n",
       "    <tr>\n",
       "      <th>3</th>\n",
       "      <td>1</td>\n",
       "      <td>no entro en descalificar al vendedor  solo pue...</td>\n",
       "      <td>producto no recibido.</td>\n",
       "    </tr>\n",
       "    <tr>\n",
       "      <th>4</th>\n",
       "      <td>1</td>\n",
       "      <td>llega tarde y co la talla equivocada</td>\n",
       "      <td>devuelto</td>\n",
       "    </tr>\n",
       "    <tr>\n",
       "      <th>...</th>\n",
       "      <td>...</td>\n",
       "      <td>...</td>\n",
       "      <td>...</td>\n",
       "    </tr>\n",
       "    <tr>\n",
       "      <th>204995</th>\n",
       "      <td>5</td>\n",
       "      <td>para lo que cuesta es perfecto porque cumple s...</td>\n",
       "      <td>perfectos para lo que sirven</td>\n",
       "    </tr>\n",
       "    <tr>\n",
       "      <th>204996</th>\n",
       "      <td>5</td>\n",
       "      <td>material muy flexible y cómodo  acorde a la de...</td>\n",
       "      <td>buen vendedor, rápido y fiable.</td>\n",
       "    </tr>\n",
       "    <tr>\n",
       "      <th>204997</th>\n",
       "      <td>5</td>\n",
       "      <td>se ve bien el grabado</td>\n",
       "      <td>medallas con bonito grabado</td>\n",
       "    </tr>\n",
       "    <tr>\n",
       "      <th>204998</th>\n",
       "      <td>5</td>\n",
       "      <td>lo compré para mi bici pero finalmente se lo h...</td>\n",
       "      <td>timbre</td>\n",
       "    </tr>\n",
       "    <tr>\n",
       "      <th>204999</th>\n",
       "      <td>5</td>\n",
       "      <td>pues este tipo de cascos si que son inalambric...</td>\n",
       "      <td>auriculares sin cables de verdad</td>\n",
       "    </tr>\n",
       "  </tbody>\n",
       "</table>\n",
       "<p>205000 rows × 3 columns</p>\n",
       "</div>"
      ],
      "text/plain": [
       "        stars                                        review_body  \\\n",
       "0           1  nada bueno se me fue ka pantalla en menos de  ...   \n",
       "1           1  horrible  nos tuvimos que comprar otro porque ...   \n",
       "2           1  te obligan a comprar dos unidades y te llega s...   \n",
       "3           1  no entro en descalificar al vendedor  solo pue...   \n",
       "4           1               llega tarde y co la talla equivocada   \n",
       "...       ...                                                ...   \n",
       "204995      5  para lo que cuesta es perfecto porque cumple s...   \n",
       "204996      5  material muy flexible y cómodo  acorde a la de...   \n",
       "204997      5                              se ve bien el grabado   \n",
       "204998      5  lo compré para mi bici pero finalmente se lo h...   \n",
       "204999      5  pues este tipo de cascos si que son inalambric...   \n",
       "\n",
       "                                             review_title  \n",
       "0                                        television nevir  \n",
       "1               dinero tirado a la basura con esta compra  \n",
       "2       solo llega una unidad cuando te obligan a comp...  \n",
       "3                                   producto no recibido.  \n",
       "4                                                devuelto  \n",
       "...                                                   ...  \n",
       "204995                       perfectos para lo que sirven  \n",
       "204996                    buen vendedor, rápido y fiable.  \n",
       "204997                        medallas con bonito grabado  \n",
       "204998                                             timbre  \n",
       "204999                   auriculares sin cables de verdad  \n",
       "\n",
       "[205000 rows x 3 columns]"
      ]
     },
     "metadata": {},
     "output_type": "display_data"
    }
   ],
   "source": [
    "# Regularización\n",
    "\n",
    "# Pasamos a minúsculas\n",
    "df['review_body'] = df['review_body'].str.lower()\n",
    "df['review_title'] = df['review_title'].str.lower()\n",
    "\n",
    "\n",
    "# Nos deshacemos de los caracteres especiales\n",
    "# Nuestro regex selecciona letras con tilde y espacios\n",
    "\n",
    "df['review_body'].replace('[^A-Za-záéíóúÁÉÍÓÚ ]',' ', regex=True, inplace=True)\n",
    "df['review_title'].replace('[^A-Za-záéíóúÁÉÍÓÚ ]',' ', regex=True)\n",
    "\n",
    "\n",
    "display(df)"
   ]
  },
  {
   "cell_type": "code",
   "execution_count": null,
   "metadata": {},
   "outputs": [],
   "source": [
    "# Si queremos usar el pos_tag de nltk se nos va a complicar porque no es tan sencillo cuando el idioma no es inglés\n",
    "# Mejor usar spacy https://spacy.io/models/es\n",
    "import spacy\n",
    "nlp = spacy.load('es_core_news_sm')\n",
    "\n",
    "# Tokenizar\n",
    "\n",
    "tokens = []\n",
    "lemma = []\n",
    "pos = []\n",
    "\n",
    "for doc in nlp.pipe(df['review_body'].astype('unicode').values, batch_size=205000, n_threads=3):\n",
    "    if doc.is_parsed:\n",
    "        tokens.append([n.text for n in doc])\n",
    "        lemma.append([n.lemma_ for n in doc])\n",
    "        pos.append([n.pos_ for n in doc])\n",
    "    else:\n",
    "        tokens.append(None)\n",
    "        lemma.append(None)\n",
    "        pos.append(None)\n",
    "\n",
    "df['tokens'] = tokens\n",
    "df['lemma'] = lemma\n",
    "df['pos'] = pos"
   ]
  },
  {
   "cell_type": "code",
   "execution_count": null,
   "metadata": {},
   "outputs": [],
   "source": [
    "\n",
    "# Creamos una nueva columna con las palabras tokenizadas\n",
    "df['tokenized_sents'] = df.apply(lambda row: nltk.word_tokenize(row['review_body']), axis=1)\n",
    "\n",
    "print(df)"
   ]
  },
  {
   "cell_type": "code",
   "execution_count": null,
   "metadata": {},
   "outputs": [],
   "source": [
    "# Remover stop words\n",
    "stopwords = nltk.corpus.stopwords.words('spanish')\n",
    "stopwords.remove('no')\n",
    "stopwords.remove('pero')\n",
    "\n",
    "# se puede imprimir esta lista para ver qué hay adentro, es larga\n",
    "stopwords.sort()\n",
    "print(stopwords)"
   ]
  },
  {
   "cell_type": "code",
   "execution_count": null,
   "metadata": {},
   "outputs": [],
   "source": [
    "df['tokenized_sents'] = df['tokenized_sents'].apply(lambda x: [word for word in x if word not in stopwords])"
   ]
  },
  {
   "cell_type": "code",
   "execution_count": null,
   "metadata": {},
   "outputs": [],
   "source": [
    "# Vemos un ejemplo de cómo queda\n",
    "df.iloc[4996]"
   ]
  },
  {
   "cell_type": "code",
   "execution_count": null,
   "metadata": {},
   "outputs": [],
   "source": [
    "# Lematizar\n",
    "nltk.download('omw')\n",
    "nltk.download('averaged_perceptron_tagger')\n",
    "from nltk.corpus import wordnet as wn\n",
    "wn.synsets('bank')[0].lemma_names('spa')"
   ]
  },
  {
   "cell_type": "code",
   "execution_count": null,
   "metadata": {},
   "outputs": [],
   "source": [
    "def lemmatize_text(text):\n",
    "    return [lemmatizer.lemmatize(w) for w in w_tokenizer.tokenize(text)]\n",
    "\n",
    "df = pd.DataFrame(['this was cheesy', 'she likes these books', 'wow this is great'], columns=['text'])\n",
    "df['text_lemmatized'] = df.text.apply(lemmatize_text)"
   ]
  },
  {
   "cell_type": "code",
   "execution_count": null,
   "metadata": {},
   "outputs": [],
   "source": [
    "# Bag of Words\n"
   ]
  },
  {
   "cell_type": "code",
   "execution_count": null,
   "metadata": {},
   "outputs": [],
   "source": []
  },
  {
   "cell_type": "code",
   "execution_count": null,
   "metadata": {},
   "outputs": [],
   "source": [
    "# Modelo"
   ]
  }
 ],
 "metadata": {
  "kernelspec": {
   "display_name": "Python 3",
   "language": "python",
   "name": "python3"
  },
  "language_info": {
   "codemirror_mode": {
    "name": "ipython",
    "version": 3
   },
   "file_extension": ".py",
   "mimetype": "text/x-python",
   "name": "python",
   "nbconvert_exporter": "python",
   "pygments_lexer": "ipython3",
   "version": "3.8.3"
  }
 },
 "nbformat": 4,
 "nbformat_minor": 4
}
